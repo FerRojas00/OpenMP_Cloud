{
  "nbformat": 4,
  "nbformat_minor": 0,
  "metadata": {
    "colab": {
      "provenance": []
    },
    "kernelspec": {
      "name": "python3",
      "display_name": "Python 3"
    },
    "language_info": {
      "name": "python"
    }
  },
  "cells": [
    {
      "cell_type": "code",
      "execution_count": 11,
      "metadata": {
        "colab": {
          "base_uri": "https://localhost:8080/"
        },
        "id": "hI0sSw49Jj1T",
        "outputId": "2cf446cd-f216-459d-be22-85460383a49e"
      },
      "outputs": [
        {
          "output_type": "stream",
          "name": "stdout",
          "text": [
            "   Arreglo A  Arreglo B   Arreglo C (Suma)\n",
            "0       33.0        95.0             128.0\n",
            "1       41.0        97.0             138.0\n",
            "2       93.0        77.0             170.0\n",
            "3       45.0         5.0              50.0\n",
            "4       22.0        93.0             115.0\n",
            "5       83.0        95.0             178.0\n",
            "6       89.0        58.0             147.0\n",
            "7       70.0        42.0             112.0\n",
            "8       67.0        96.0             163.0\n",
            "9        0.0        93.0              93.0\n"
          ]
        }
      ],
      "source": [
        "import numpy as np\n",
        "import pandas as pd\n",
        "import multiprocessing as mp\n",
        "\n",
        "#Definimos las constantes del programa\n",
        "N = 1000       #Numero de elementos en los arreglos\n",
        "CHUNK = 100    #Tamaño de las partes en las que dividiremos el trabajo\n",
        "MOSTRAR = 10   #Cantidad de valores a imprimir\n",
        "\n",
        "def llenar_arreglo(): #Funcion para llenar un arreglo con los numeros aleatorios entre 0 y 100\n",
        "    return np.random.randint(0, 101, N).astype(float)\n",
        "\n",
        "\n",
        "def suma_arreglos(a, b):     #Funcion para sumar los arreglos en paralelo\n",
        "    c = np.zeros(N, dtype=float)  #Se crea un arreglo sin nada para la suma\n",
        "\n",
        "    # Se determinan los procesos podemos usar\n",
        "    num_procesos = min(8, mp.cpu_count())  #Max. 8 procesos o la cantidad de nucleos disponibles\n",
        "    chunk_size = N // num_procesos  # Se divide el trabajo en partes iguales\n",
        "\n",
        "\n",
        "    def suma_parcial(inicio, fin, resultado): #Funcion interna que cada proceso usara para calcular su parte de la suma\n",
        "        for i in range(inicio, fin):\n",
        "            resultado[i] = a[i] + b[i]  #Se suman los valores de los arreglos\n",
        "\n",
        "\n",
        "    resultado = mp.Array('d', N)  #Se crea la estructura de memoria compartida para que todos los procesos puedan escribir en el mismo arreglo\n",
        "\n",
        "\n",
        "    procesos = [] # Aqui se guardaran los procesos que vamos a crear\n",
        "    for i in range(num_procesos):\n",
        "        inicio = i * chunk_size  #Indice inicial para este proceso\n",
        "        fin = N if i == num_procesos - 1 else (i + 1) * chunk_size  #Indice final\n",
        "\n",
        "        p = mp.Process(target=suma_parcial, args=(inicio, fin, resultado)) #Creacion de un nuevo proceso que ejecuta la funcion de suma_parcial en su rango correspondiente\n",
        "        procesos.append(p)\n",
        "        p.start()  # El proceso se comienza\n",
        "\n",
        "    for p in procesos:     #Se esoera a que todos los procesos terminen\n",
        "        p.join()\n",
        "\n",
        "    c[:] = np.array(resultado[:])     #Se convierten a el resultado compartido en un arreglo de numpy\n",
        "\n",
        "    return c\n",
        "\n",
        "#Se generan los arreglos con valores aleatorios\n",
        "a = llenar_arreglo()\n",
        "b = llenar_arreglo()\n",
        "\n",
        "#Se hace la suma en paralelo\n",
        "c = suma_arreglos(a, b)\n",
        "\n",
        "#Se guardan los primeros valores en un DF para visualizar los resultados\n",
        "df = pd.DataFrame({\n",
        "    \"Arreglo A\": a[:MOSTRAR],\n",
        "    \"Arreglo B \": b[:MOSTRAR],\n",
        "    \"Arreglo C (Suma)\": c[:MOSTRAR]  #suma de A + B\n",
        "})\n",
        "\n",
        "# Se imprimen los resultados\n",
        "print(df)"
      ]
    }
  ]
}